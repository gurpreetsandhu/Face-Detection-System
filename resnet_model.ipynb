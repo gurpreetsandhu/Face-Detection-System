{
 "cells": [
  {
   "cell_type": "code",
   "execution_count": 44,
   "metadata": {
    "colab": {},
    "colab_type": "code",
    "id": "ZC8UgkhhuFUc"
   },
   "outputs": [],
   "source": [
    "import torch\n",
    "import torchvision\n",
    "import torch.nn as nn\n",
    "import torch.optim as optim\n",
    "import torchvision.transforms as transforms\n",
    "import matplotlib.pyplot as plt"
   ]
  },
  {
   "cell_type": "code",
   "execution_count": 31,
   "metadata": {
    "colab": {},
    "colab_type": "code",
    "id": "8Bnn8m_JuKCT"
   },
   "outputs": [],
   "source": [
    "transform = transforms.Compose(\n",
    "    [transforms.ToTensor(),\n",
    "     transforms.Normalize((0.5, 0.5, 0.5), (0.5, 0.5, 0.5))])\n",
    "\n",
    "trainset = torchvision.datasets.ImageFolder(root='output_resized/train', transform=transform)\n",
    "trainloader = torch.utils.data.DataLoader(trainset, batch_size=4, shuffle=True)\n",
    "\n",
    "testset = torchvision.datasets.ImageFolder(root='output_resized/valid', transform=transform)\n",
    "testloader = torch.utils.data.DataLoader(testset, batch_size=4, shuffle=True)\n",
    "\n",
    "classes = ('Akhil', 'Ceepon', 'Gurpreet', 'Murali','Nikhil', 'Subhani')"
   ]
  },
  {
   "cell_type": "code",
   "execution_count": 32,
   "metadata": {
    "colab": {},
    "colab_type": "code",
    "id": "ZSbAa9nkuZhy"
   },
   "outputs": [
    {
     "name": "stderr",
     "output_type": "stream",
     "text": [
      "Downloading: \"https://download.pytorch.org/models/resnet34-333f7ec4.pth\" to C:\\Users\\Subhani/.torch\\models\\resnet34-333f7ec4.pth\n",
      "87306240it [01:40, 868805.31it/s] \n"
     ]
    }
   ],
   "source": [
    "num_classes = 6\n",
    "net = torchvision.models.resnet34(pretrained=True)\n",
    "\n",
    "num_ftrs = net.fc.in_features\n",
    "\n",
    "net.fc = nn.Linear(num_ftrs, num_classes)\n",
    "net.cuda()\n",
    "\n",
    "criterion = nn.CrossEntropyLoss()\n",
    "optimizer = optim.SGD(net.parameters(), lr=0.001, momentum=0.9)"
   ]
  },
  {
   "cell_type": "code",
   "execution_count": 33,
   "metadata": {
    "colab": {
     "base_uri": "https://localhost:8080/",
     "height": 1000
    },
    "colab_type": "code",
    "id": "euIfhb84uZ3x",
    "outputId": "650af707-8f50-4a55-8b73-8a6eb642a0e1"
   },
   "outputs": [
    {
     "name": "stdout",
     "output_type": "stream",
     "text": [
      "[1,   100] loss: 0.694\n",
      "[1,   200] loss: 0.209\n",
      "[1,   300] loss: 0.288\n",
      "[2,   100] loss: 0.136\n",
      "[2,   200] loss: 0.116\n",
      "[2,   300] loss: 0.130\n",
      "[3,   100] loss: 0.038\n",
      "[3,   200] loss: 0.070\n",
      "[3,   300] loss: 0.096\n",
      "[4,   100] loss: 0.085\n",
      "[4,   200] loss: 0.050\n",
      "[4,   300] loss: 0.023\n",
      "[5,   100] loss: 0.027\n",
      "[5,   200] loss: 0.037\n",
      "[5,   300] loss: 0.041\n",
      "[6,   100] loss: 0.017\n",
      "[6,   200] loss: 0.042\n",
      "[6,   300] loss: 0.006\n",
      "[7,   100] loss: 0.015\n",
      "[7,   200] loss: 0.039\n",
      "[7,   300] loss: 0.025\n",
      "[8,   100] loss: 0.032\n",
      "[8,   200] loss: 0.100\n",
      "[8,   300] loss: 0.014\n",
      "[9,   100] loss: 0.029\n",
      "[9,   200] loss: 0.004\n",
      "[9,   300] loss: 0.003\n",
      "[10,   100] loss: 0.055\n",
      "[10,   200] loss: 0.042\n",
      "[10,   300] loss: 0.012\n",
      "[11,   100] loss: 0.033\n",
      "[11,   200] loss: 0.029\n",
      "[11,   300] loss: 0.063\n",
      "[12,   100] loss: 0.026\n",
      "[12,   200] loss: 0.017\n",
      "[12,   300] loss: 0.007\n",
      "[13,   100] loss: 0.015\n",
      "[13,   200] loss: 0.004\n",
      "[13,   300] loss: 0.002\n",
      "[14,   100] loss: 0.003\n",
      "[14,   200] loss: 0.021\n",
      "[14,   300] loss: 0.048\n",
      "[15,   100] loss: 0.002\n",
      "[15,   200] loss: 0.020\n",
      "[15,   300] loss: 0.007\n",
      "[16,   100] loss: 0.019\n",
      "[16,   200] loss: 0.003\n",
      "[16,   300] loss: 0.056\n",
      "[17,   100] loss: 0.023\n",
      "[17,   200] loss: 0.083\n",
      "[17,   300] loss: 0.012\n",
      "[18,   100] loss: 0.002\n",
      "[18,   200] loss: 0.014\n",
      "[18,   300] loss: 0.003\n",
      "[19,   100] loss: 0.045\n",
      "[19,   200] loss: 0.009\n",
      "[19,   300] loss: 0.019\n",
      "[20,   100] loss: 0.008\n",
      "[20,   200] loss: 0.079\n",
      "[20,   300] loss: 0.002\n",
      "[21,   100] loss: 0.015\n",
      "[21,   200] loss: 0.004\n",
      "[21,   300] loss: 0.007\n",
      "[22,   100] loss: 0.006\n",
      "[22,   200] loss: 0.002\n",
      "[22,   300] loss: 0.019\n",
      "[23,   100] loss: 0.039\n",
      "[23,   200] loss: 0.014\n",
      "[23,   300] loss: 0.002\n",
      "[24,   100] loss: 0.002\n",
      "[24,   200] loss: 0.072\n",
      "[24,   300] loss: 0.012\n",
      "[25,   100] loss: 0.009\n",
      "[25,   200] loss: 0.009\n",
      "[25,   300] loss: 0.016\n",
      "Finished Training\n"
     ]
    }
   ],
   "source": [
    "for epoch in range(25):\n",
    "    running_loss = 0.0\n",
    "    for i, data in enumerate(trainloader, 0):\n",
    "        inputs, labels = data\n",
    "        inputs, labels = inputs.cuda(), labels.cuda()\n",
    "        optimizer.zero_grad()\n",
    "        outputs = net(inputs)\n",
    "        loss = criterion(outputs, labels)\n",
    "        loss.backward()\n",
    "        optimizer.step()\n",
    "        running_loss += loss.item()\n",
    "        if i % 100 == 99:\n",
    "            print('[%d, %5d] loss: %.3f' %\n",
    "                  (epoch + 1, i + 1, running_loss / 100))\n",
    "            running_loss = 0.0\n",
    "print('Finished Training')"
   ]
  },
  {
   "cell_type": "code",
   "execution_count": 34,
   "metadata": {
    "colab": {},
    "colab_type": "code",
    "id": "kERQiGgTunZB"
   },
   "outputs": [],
   "source": [
    "PATH = './resnet34.pth'\n",
    "torch.save(net.state_dict(), PATH)"
   ]
  },
  {
   "cell_type": "code",
   "execution_count": 35,
   "metadata": {
    "colab": {
     "base_uri": "https://localhost:8080/",
     "height": 153
    },
    "colab_type": "code",
    "id": "fSMs6Yxkuual",
    "outputId": "e6ef57a3-69a6-4efa-ff57-82033bcdac34"
   },
   "outputs": [
    {
     "name": "stdout",
     "output_type": "stream",
     "text": [
      "GroundTruth:  Gurpreet Gurpreet Subhani Subhani\n"
     ]
    }
   ],
   "source": [
    "dataiter = iter(testloader)\n",
    "images, labels = dataiter.next()\n",
    "# imshow(torchvision.utils.make_grid(images))\n",
    "print('GroundTruth: ', ' '.join('%5s' % classes[labels[j]] for j in range(4)))\n",
    "images, labels = images.cuda(), labels.cuda()"
   ]
  },
  {
   "cell_type": "code",
   "execution_count": 36,
   "metadata": {
    "colab": {},
    "colab_type": "code",
    "id": "lgM60a20uwrr"
   },
   "outputs": [],
   "source": [
    "outputs = net(images)"
   ]
  },
  {
   "cell_type": "code",
   "execution_count": 37,
   "metadata": {},
   "outputs": [
    {
     "data": {
      "text/plain": [
       "torch.Size([4, 6])"
      ]
     },
     "execution_count": 37,
     "metadata": {},
     "output_type": "execute_result"
    }
   ],
   "source": [
    "outputs.shape"
   ]
  },
  {
   "cell_type": "code",
   "execution_count": 38,
   "metadata": {
    "colab": {
     "base_uri": "https://localhost:8080/",
     "height": 34
    },
    "colab_type": "code",
    "id": "DwinwFb8u0rO",
    "outputId": "2027c5dc-dbea-421c-9895-5ddf0b02b807"
   },
   "outputs": [
    {
     "name": "stdout",
     "output_type": "stream",
     "text": [
      "Predicted:  Gurpreet Gurpreet Subhani Subhani\n"
     ]
    }
   ],
   "source": [
    "_, predicted = torch.max(outputs, 1)\n",
    "\n",
    "print('Predicted: ', ' '.join('%5s' % classes[predicted[j]] for j in range(4)))"
   ]
  },
  {
   "cell_type": "code",
   "execution_count": 40,
   "metadata": {
    "colab": {
     "base_uri": "https://localhost:8080/",
     "height": 34
    },
    "colab_type": "code",
    "id": "H0XSQ3_9u3DZ",
    "outputId": "e864b1cf-19b0-45cd-ebb6-0582a0eb04c2"
   },
   "outputs": [
    {
     "name": "stdout",
     "output_type": "stream",
     "text": [
      "Accuracy of the network on the test images: 97 %\n"
     ]
    }
   ],
   "source": [
    "correct = 0\n",
    "total = 0\n",
    "with torch.no_grad():\n",
    "    for data in testloader:\n",
    "        images, labels = data\n",
    "        images, labels = images.cuda(), labels.cuda()\n",
    "        outputs = net(images)\n",
    "        _, predicted = torch.max(outputs.data, 1)\n",
    "        total += labels.size(0)\n",
    "        correct += (predicted == labels).sum().item()\n",
    "\n",
    "print('Accuracy of the network on the test images: %d %%' % (\n",
    "    100 * correct / total))"
   ]
  },
  {
   "cell_type": "code",
   "execution_count": null,
   "metadata": {},
   "outputs": [],
   "source": []
  },
  {
   "cell_type": "code",
   "execution_count": null,
   "metadata": {},
   "outputs": [],
   "source": []
  }
 ],
 "metadata": {
  "accelerator": "GPU",
  "colab": {
   "collapsed_sections": [],
   "name": "Untitled9.ipynb",
   "provenance": []
  },
  "kernelspec": {
   "display_name": "Python 3",
   "language": "python",
   "name": "python3"
  },
  "language_info": {
   "codemirror_mode": {
    "name": "ipython",
    "version": 3
   },
   "file_extension": ".py",
   "mimetype": "text/x-python",
   "name": "python",
   "nbconvert_exporter": "python",
   "pygments_lexer": "ipython3",
   "version": "3.7.1"
  }
 },
 "nbformat": 4,
 "nbformat_minor": 1
}
