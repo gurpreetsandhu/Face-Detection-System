{
 "cells": [
  {
   "cell_type": "code",
   "execution_count": 21,
   "metadata": {},
   "outputs": [],
   "source": [
    "import glob, os, cv2, warnings\n",
    "from mtcnn.mtcnn import MTCNN\n",
    "import matplotlib.pyplot as plt\n",
    "import matplotlib.patches as patches\n",
    "\n",
    "from cv2 import rectangle\n",
    "import numpy as np\n",
    "\n",
    "warnings.filterwarnings('ignore')\n",
    "\n",
    "\n",
    "def read_img(path):\n",
    "    return cv2.imread(pic, cv2.IMREAD_UNCHANGED)\n",
    "\n",
    "\n",
    "def resize_img(img, width, height):\n",
    "    dim = (width, height)\n",
    "    return cv2.resize(img, dim, interpolation=cv2.INTER_AREA)\n",
    "\n",
    "\n",
    "def rotate_img(img):\n",
    "    return cv2.rotate(img, cv2.ROTATE_90_CLOCKWISE)\n",
    "\n",
    "\n",
    "def write_img(name, img):\n",
    "    cv2.imwrite(name, img)\n",
    "\n",
    "\n",
    "def create_dir(path):\n",
    "    if not os.path.exists(path):\n",
    "        os.makedirs(path)\n",
    "\n",
    "\n",
    "def plt_image(img):\n",
    "    plt.imshow(img)\n",
    "    plt.show()\n",
    "\n",
    "\n",
    "def plt_draw(x, y, width, height):\n",
    "    ax = plt.gca()\n",
    "    rect = patches.Rectangle((x, y), width, height, fill=False, color='red')\n",
    "    ax.add_patch(rect)\n",
    "    plt.show()\n",
    "\n",
    "\n",
    "def detect(img_path):\n",
    "    img = cv2.imread(img_path)\n",
    "    faces = detector.detect_faces(img)\n",
    "    return faces"
   ]
  },
  {
   "cell_type": "code",
   "execution_count": 41,
   "metadata": {},
   "outputs": [],
   "source": [
    "# delimiter='/'\n",
    "delimiter='\\\\'\n",
    "\n",
    "w, h = 182, 182"
   ]
  },
  {
   "cell_type": "code",
   "execution_count": 48,
   "metadata": {},
   "outputs": [
    {
     "name": "stdout",
     "output_type": "stream",
     "text": [
      ".\\train\\Ceepon\n",
      "\n",
      " 1 :: 00000XTR_00000_BURST20191102124345.jpg | Yes| 1 | \n",
      " 2 :: 00001XTR_00001_BURST20191102124345.jpg | Yes| 1 | \n",
      " 3 :: 00002XTR_00002_BURST20191102124345.jpg | Yes| 1 | "
     ]
    }
   ],
   "source": [
    "input_path = r\".\\train\"\n",
    "output_path = r\".\\pre-processed\"\n",
    "\n",
    "inp = input_path.split(delimiter)\n",
    "result_folder = os.path.join(output_path, inp[-1])\n",
    "\n",
    "create_dir(result_folder)\n",
    "detector = MTCNN()\n",
    "\n",
    "for cls in glob.glob(os.path.join(input_path, \"*\")):\n",
    "    print(cls)\n",
    "    cls_name = cls.split(delimiter)[-1]\n",
    "    cls_folder = os.path.join(result_folder, cls_name)\n",
    "    create_dir(cls_folder)\n",
    "\n",
    "    counter, img_count = 1, 1\n",
    "    for pic in glob.glob(os.path.join(cls, \"*\")):\n",
    "        img = cv2.imread(pic)\n",
    "        faces = detect(pic)\n",
    "\n",
    "        img_name = pic.split(delimiter)[-1]\n",
    "        print('\\n', img_count, '::', img_name, end='');\n",
    "        img_count += 1\n",
    "        extension = img_name.split(\".\")[-1]\n",
    "\n",
    "        if (len(faces) == 0):\n",
    "            print(' | No |', len(faces), end=' | ')\n",
    "        else:\n",
    "            print(' | Yes|', len(faces), end=' | ')\n",
    "        for f in faces:\n",
    "            x, y, width, height = f['box']\n",
    "\n",
    "            face = img[y:y + height, x:x + width, :]\n",
    "            resized_img = resize_img(face, w, h)\n",
    "            \n",
    "            new_img_name = cls_name + \"_\" + str(counter) + \".\" + extension\n",
    "            new_path = os.path.join(cls_folder, new_img_name)\n",
    "            write_img(new_path, face)\n",
    "            counter += 1"
   ]
  },
  {
   "cell_type": "code",
   "execution_count": null,
   "metadata": {},
   "outputs": [],
   "source": []
  }
 ],
 "metadata": {
  "kernelspec": {
   "display_name": "Python 3",
   "language": "python",
   "name": "python3"
  },
  "language_info": {
   "codemirror_mode": {
    "name": "ipython",
    "version": 3
   },
   "file_extension": ".py",
   "mimetype": "text/x-python",
   "name": "python",
   "nbconvert_exporter": "python",
   "pygments_lexer": "ipython3",
   "version": "3.7.1"
  }
 },
 "nbformat": 4,
 "nbformat_minor": 2
}
