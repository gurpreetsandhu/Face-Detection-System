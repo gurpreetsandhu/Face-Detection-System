{
 "cells": [
  {
   "cell_type": "code",
   "execution_count": 131,
   "metadata": {},
   "outputs": [],
   "source": [
    "# python test.py test classify/test model_name\n",
    "\n",
    "import argparse\n",
    "import glob, os, cv2, warnings\n",
    "from mtcnn.mtcnn import MTCNN\n",
    "import matplotlib.pyplot as plt\n",
    "\n",
    "import numpy as np\n",
    "import torch\n",
    "import torchvision\n",
    "import torch.nn as nn\n",
    "import torch.optim as optim\n",
    "import torchvision.transforms as transforms\n",
    "import matplotlib.patches as patches\n",
    "from datetime import datetime\n",
    "\n",
    "warnings.filterwarnings('ignore')"
   ]
  },
  {
   "cell_type": "code",
   "execution_count": 132,
   "metadata": {},
   "outputs": [
    {
     "name": "stderr",
     "output_type": "stream",
     "text": [
      "usage: ipykernel_launcher.py [-h] test pre_processed model_pth\n",
      "ipykernel_launcher.py: error: the following arguments are required: pre_processed, model_pth\n"
     ]
    },
    {
     "ename": "SystemExit",
     "evalue": "2",
     "output_type": "error",
     "traceback": [
      "An exception has occurred, use %tb to see the full traceback.\n",
      "\u001b[1;31mSystemExit\u001b[0m\u001b[1;31m:\u001b[0m 2\n"
     ]
    }
   ],
   "source": [
    "parser = argparse.ArgumentParser(description=\"parser\")\n",
    "\n",
    "parser.add_argument(\"test_dir\", metavar=\"test\", type=str, help='path to test root dir')\n",
    "parser.add_argument(\"classify_dir\", metavar=\"pre_processed\", type=str, help='path to pre-processed root dir')\n",
    "parser.add_argument(\"model_name\", metavar=\"model_pth\", type=str, help='path to train root dir')\n",
    "\n",
    "# parse the arguments from standard input\n",
    "args = parser.parse_args()\n",
    "\n",
    "# input_path = r\"./test/\"\n",
    "# output_path = r\"classify/test/\"\n",
    "\n",
    "input_path = args.test_dir\n",
    "w, h = 182, 182\n",
    "\n",
    "now = datetime.now()\n",
    "# print(\"now =\", now)\n",
    "dt_string = now.strftime(\"%d_%m_%Y %H_%M_%S\")\n",
    "print(\"date and time =\", dt_string)\n",
    "\n",
    "output_path = args.classify_dir\n",
    "output_path = os.path.join(output_path, dt_string)\n",
    "\n",
    "saved_pth = args.model_name\n",
    "\n",
    "print(args.test_dir)\n",
    "print(args.classify_dir)\n",
    "print(args.model_name)"
   ]
  },
  {
   "cell_type": "code",
   "execution_count": 133,
   "metadata": {},
   "outputs": [],
   "source": [
    "def read_img(path):\n",
    "    return cv2.imread(pic, cv2.IMREAD_UNCHANGED)\n",
    "\n",
    "\n",
    "def resize_img(img, w, h):\n",
    "    dim = (w, h)\n",
    "    resized = cv2.resize(img, dim)\n",
    "    return resized\n",
    "\n",
    "\n",
    "def rotate_img(img):\n",
    "    return cv2.rotate(img, cv2.ROTATE_90_CLOCKWISE)\n",
    "\n",
    "\n",
    "def write_img(name, img):\n",
    "    cv2.imwrite(name, img)\n",
    "\n",
    "\n",
    "def create_dir(path):\n",
    "    if not os.path.exists(path):\n",
    "        os.makedirs(path)\n",
    "\n",
    "\n",
    "def plt_image(img):\n",
    "    plt.imshow(img)\n",
    "    plt.show()\n",
    "\n",
    "\n",
    "def plt_draw(x, y, width, height):\n",
    "    ax = plt.gca()\n",
    "    rect = patches.Rectangle((x, y), width, height, fill=False, color='red')\n",
    "    ax.add_patch(rect)\n",
    "    plt.show()\n",
    "\n",
    "\n",
    "def detect(img_path):\n",
    "    img = cv2.imread(img_path)\n",
    "    faces = detector.detect_faces(img)\n",
    "    return faces"
   ]
  },
  {
   "cell_type": "code",
   "execution_count": 134,
   "metadata": {},
   "outputs": [
    {
     "name": "stdout",
     "output_type": "stream",
     "text": [
      "Yes : 5\n",
      "(182, 182, 3)\n",
      "classify/test//test\\1.jpeg\n",
      "(182, 182, 3)\n",
      "classify/test//test\\2.jpeg\n",
      "(182, 182, 3)\n",
      "classify/test//test\\3.jpeg\n",
      "(182, 182, 3)\n",
      "classify/test//test\\4.jpeg\n",
      "(182, 182, 3)\n",
      "classify/test//test\\5.jpeg\n"
     ]
    }
   ],
   "source": [
    "sub_folder = '/test'\n",
    "create_dir(output_path + sub_folder)\n",
    "detector = MTCNN()\n",
    "\n",
    "counter = 1\n",
    "for pic in glob.glob(os.path.join(input_path, \"*\")):\n",
    "    img = cv2.imread(pic)\n",
    "\n",
    "    faces = detect(pic)\n",
    "\n",
    "    img_name = pic.split(\"/\")[-1]\n",
    "    extension = img_name.split(\".\")[-1]\n",
    "\n",
    "    if (len(faces) == 0):\n",
    "        print('No : ', len(faces))\n",
    "    else:\n",
    "        print('Yes :', len(faces))\n",
    "    for f in faces:\n",
    "        new_img_name = str(counter) + \".\" + extension\n",
    "        new_path = os.path.join(output_path+sub_folder, new_img_name)\n",
    "\n",
    "        x, y, width, height = f['box']\n",
    "        face = img[y:y + height, x:x + width, :]\n",
    "\n",
    "        resized_img = resize_img(face, w, h)\n",
    "        print(resized_img.shape)\n",
    "        print(new_path)\n",
    "        write_img(new_path, resized_img)\n",
    "        counter += 1"
   ]
  },
  {
   "cell_type": "code",
   "execution_count": 135,
   "metadata": {},
   "outputs": [],
   "source": [
    "transform = transforms.Compose([transforms.ToTensor(), transforms.Normalize((0.5, 0.5, 0.5), (0.5, 0.5, 0.5))])\n",
    "\n",
    "testset = torchvision.datasets.ImageFolder(root=output_path, transform=transform)\n",
    "testloader = torch.utils.data.DataLoader(testset, batch_size=1, shuffle=False)\n",
    "\n",
    "classes = ('Akhil', 'Ceepon', 'Gurpreet', 'Murali', 'Nikhil', 'Subhani')\n",
    "\n",
    "num_classes = 6"
   ]
  },
  {
   "cell_type": "code",
   "execution_count": 136,
   "metadata": {},
   "outputs": [],
   "source": [
    "net = torchvision.models.resnet18(pretrained=False)\n",
    "num_ftrs = net.fc.in_features\n",
    "\n",
    "net.fc = nn.Linear(num_ftrs, num_classes)\n",
    "# net.cuda()\n",
    "\n",
    "state_dict = torch.load(saved_pth)\n",
    "net.load_state_dict(state_dict)"
   ]
  },
  {
   "cell_type": "code",
   "execution_count": 137,
   "metadata": {},
   "outputs": [
    {
     "name": "stdout",
     "output_type": "stream",
     "text": [
      "Predicted:  5 Subhani\n",
      "Predicted:  3 Murali\n",
      "Predicted:  5 Subhani\n",
      "Predicted:  5 Subhani\n",
      "Predicted:  2 Gurpreet\n",
      "{'message': ['Subhani', 'Murali', 'Subhani', 'Subhani', 'Gurpreet']}\n"
     ]
    }
   ],
   "source": [
    "result = dict()\n",
    "attended = []\n",
    "for i, data in enumerate(testloader, 0):\n",
    "    inputs, labels = data\n",
    "#     inputs, labels = inputs.cuda(), labels.cuda()\n",
    "\n",
    "    outputs = net(inputs)\n",
    "    _, predicted = torch.max(outputs, 1)\n",
    "\n",
    "    print('Predicted: ', predicted.item(), classes[predicted])\n",
    "    attended.append(classes[predicted])\n",
    "\n",
    "result['message'] = attended\n",
    "\n",
    "print(result)"
   ]
  },
  {
   "cell_type": "code",
   "execution_count": 138,
   "metadata": {},
   "outputs": [
    {
     "data": {
      "text/plain": [
       "{'message': ['Subhani', 'Murali', 'Subhani', 'Subhani', 'Gurpreet']}"
      ]
     },
     "execution_count": 138,
     "metadata": {},
     "output_type": "execute_result"
    }
   ],
   "source": [
    "result"
   ]
  },
  {
   "cell_type": "code",
   "execution_count": null,
   "metadata": {},
   "outputs": [],
   "source": []
  }
 ],
 "metadata": {
  "kernelspec": {
   "display_name": "Python 3",
   "language": "python",
   "name": "python3"
  },
  "language_info": {
   "codemirror_mode": {
    "name": "ipython",
    "version": 3
   },
   "file_extension": ".py",
   "mimetype": "text/x-python",
   "name": "python",
   "nbconvert_exporter": "python",
   "pygments_lexer": "ipython3",
   "version": "3.7.1"
  }
 },
 "nbformat": 4,
 "nbformat_minor": 2
}
