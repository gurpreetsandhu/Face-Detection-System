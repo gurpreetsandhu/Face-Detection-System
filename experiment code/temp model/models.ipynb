{
 "cells": [
  {
   "cell_type": "code",
   "execution_count": 5,
   "metadata": {},
   "outputs": [
    {
     "data": {
      "application/javascript": [
       "\n",
       "            setTimeout(function() {\n",
       "                var nbb_cell_id = 5;\n",
       "                var nbb_formatted_code = \"# %load_ext nb_black\\nimport yapf\";\n",
       "                var nbb_cells = Jupyter.notebook.get_cells();\n",
       "                for (var i = 0; i < nbb_cells.length; ++i) {\n",
       "                    if (nbb_cells[i].input_prompt_number == nbb_cell_id) {\n",
       "                        nbb_cells[i].set_text(nbb_formatted_code);\n",
       "                        break;\n",
       "                    }\n",
       "                }\n",
       "            }, 500);\n",
       "            "
      ],
      "text/plain": [
       "<IPython.core.display.Javascript object>"
      ]
     },
     "metadata": {},
     "output_type": "display_data"
    }
   ],
   "source": [
    "# %load_ext nb_black\n",
    "import yapf"
   ]
  },
  {
   "cell_type": "code",
   "execution_count": 6,
   "metadata": {},
   "outputs": [
    {
     "data": {
      "application/javascript": [
       "\n",
       "            setTimeout(function() {\n",
       "                var nbb_cell_id = 6;\n",
       "                var nbb_formatted_code = \"import numpy as np\\nimport torch\\nimport torch.nn as nn\\nfrom torchvision.models import resnet34\\n\\n\\nclass FaceNetModel(nn.Module):\\n    def __init__(self, embedding_size, num_classes, pretrained=False):\\n        super(FaceNetModel, self).__init__()\\n\\n        self.model = resnet34(pretrained)\\n        self.embedding_size = embedding_size\\n        self.model.fc = nn.Linear(2048 * 3 * 3, self.embedding_size)\\n        self.model.classifier = nn.Linear(self.embedding_size, num_classes)\\n\\n    def l2_norm(self, input):\\n        input_size = input.size()\\n        buffer = torch.pow(input, 2)\\n        normp = torch.sum(buffer, 1).add_(1e-10)\\n        norm = torch.sqrt(normp)\\n        _output = torch.div(input, norm.view(-1, 1).expand_as(input))\\n        output = _output.view(input_size)\\n\\n        return output\\n\\n    def forward(self, x):\\n        x = self.model.conv1(x)\\n        x = self.model.bn1(x)\\n        x = self.model.relu(x)\\n        x = self.model.maxpool(x)\\n        x = self.model.layer1(x)\\n        x = self.model.layer2(x)\\n        x = self.model.layer3(x)\\n        x = self.model.layer4(x)\\n        x = x.view(x.size(0), -1)\\n        x = self.model.fc(x)\\n\\n        self.features = self.l2_norm(x)\\n        # Multiply by alpha = 10 as suggested in https://arxiv.org/pdf/1703.09507.pdf\\n        alpha = 10\\n        self.features = self.features * alpha\\n\\n        return self.features\\n\\n    def forward_classifier(self, x):\\n        features = self.forward(x)\\n        res = self.model.classifier(features)\\n\\n        return res\";\n",
       "                var nbb_cells = Jupyter.notebook.get_cells();\n",
       "                for (var i = 0; i < nbb_cells.length; ++i) {\n",
       "                    if (nbb_cells[i].input_prompt_number == nbb_cell_id) {\n",
       "                        nbb_cells[i].set_text(nbb_formatted_code);\n",
       "                        break;\n",
       "                    }\n",
       "                }\n",
       "            }, 500);\n",
       "            "
      ],
      "text/plain": [
       "<IPython.core.display.Javascript object>"
      ]
     },
     "metadata": {},
     "output_type": "display_data"
    }
   ],
   "source": [
    "import numpy as np\n",
    "import torch\n",
    "import torch.nn as nn\n",
    "from torchvision.models import resnet34\n",
    "\n",
    "\n",
    "class FaceNetModel(nn.Module):\n",
    "    def __init__(self, embedding_size, num_classes, pretrained=False):\n",
    "        super(FaceNetModel, self).__init__()\n",
    "\n",
    "        self.model = resnet34(pretrained)\n",
    "        self.embedding_size = embedding_size\n",
    "        self.model.fc = nn.Linear(2048 * 3 * 3, self.embedding_size)\n",
    "        self.model.classifier = nn.Linear(self.embedding_size, num_classes)\n",
    "\n",
    "    def l2_norm(self, input):\n",
    "        input_size = input.size()\n",
    "        buffer = torch.pow(input, 2)\n",
    "        normp = torch.sum(buffer, 1).add_(1e-10)\n",
    "        norm = torch.sqrt(normp)\n",
    "        _output = torch.div(input, norm.view(-1, 1).expand_as(input))\n",
    "        output = _output.view(input_size)\n",
    "\n",
    "        return output\n",
    "\n",
    "    def forward(self, x):\n",
    "        x = self.model.conv1(x)\n",
    "        x = self.model.bn1(x)\n",
    "        x = self.model.relu(x)\n",
    "        x = self.model.maxpool(x)\n",
    "        x = self.model.layer1(x)\n",
    "        x = self.model.layer2(x)\n",
    "        x = self.model.layer3(x)\n",
    "        x = self.model.layer4(x)\n",
    "        x = x.view(x.size(0), -1)\n",
    "        x = self.model.fc(x)\n",
    "\n",
    "        self.features = self.l2_norm(x)\n",
    "        # Multiply by alpha = 10 as suggested in https://arxiv.org/pdf/1703.09507.pdf\n",
    "        alpha = 10\n",
    "        self.features = self.features * alpha\n",
    "\n",
    "        return self.features\n",
    "\n",
    "    def forward_classifier(self, x):\n",
    "        features = self.forward(x)\n",
    "        res = self.model.classifier(features)\n",
    "\n",
    "        return res"
   ]
  },
  {
   "cell_type": "code",
   "execution_count": null,
   "metadata": {},
   "outputs": [],
   "source": []
  }
 ],
 "metadata": {
  "kernelspec": {
   "display_name": "Python 3",
   "language": "python",
   "name": "python3"
  },
  "language_info": {
   "codemirror_mode": {
    "name": "ipython",
    "version": 3
   },
   "file_extension": ".py",
   "mimetype": "text/x-python",
   "name": "python",
   "nbconvert_exporter": "python",
   "pygments_lexer": "ipython3",
   "version": "3.7.1"
  }
 },
 "nbformat": 4,
 "nbformat_minor": 2
}
